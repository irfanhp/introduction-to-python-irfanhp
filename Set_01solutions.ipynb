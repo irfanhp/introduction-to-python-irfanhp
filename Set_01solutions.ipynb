{
 "cells": [
  {
   "cell_type": "code",
   "execution_count": 1,
   "id": "5fae9641",
   "metadata": {},
   "outputs": [
    {
     "name": "stdout",
     "output_type": "stream",
     "text": [
      "Hello world!\n"
     ]
    }
   ],
   "source": [
    "print('Hello world!')"
   ]
  },
  {
   "cell_type": "code",
   "execution_count": 2,
   "id": "a1cde83e",
   "metadata": {},
   "outputs": [],
   "source": [
    "a = [1,1,2,3,5,2,6,7,7,5]\n",
    "b = {1,1,2,3,5,2,6,7,7,5}\n",
    "c = (1,1,2,3,5,2,6,7,7,5)"
   ]
  },
  {
   "cell_type": "code",
   "execution_count": 3,
   "id": "365f7289",
   "metadata": {},
   "outputs": [
    {
     "name": "stdout",
     "output_type": "stream",
     "text": [
      "a=  [1, 1, 2, 3, 5, 2, 6, 7, 7, 5]\n",
      "b=  {1, 2, 3, 5, 6, 7}\n",
      "c=  (1, 1, 2, 3, 5, 2, 6, 7, 7, 5)\n"
     ]
    }
   ],
   "source": [
    "print('a= ',a)\n",
    "print('b= ',b)\n",
    "print('c= ',c)"
   ]
  },
  {
   "cell_type": "code",
   "execution_count": 4,
   "id": "1bb986dd",
   "metadata": {},
   "outputs": [
    {
     "name": "stdout",
     "output_type": "stream",
     "text": [
      "['Salam', 'Sib', 35.43, 12, {1, 2, 3, 5, 6, 7}, 'xy', 44]\n"
     ]
    }
   ],
   "source": [
    "d = ['Salam','Sib',35.43,12,b,'x'+'y',44]\n",
    "print(d)"
   ]
  },
  {
   "cell_type": "code",
   "execution_count": 10,
   "id": "db1c5206",
   "metadata": {},
   "outputs": [
    {
     "ename": "TypeError",
     "evalue": "unhashable type: 'set'",
     "output_type": "error",
     "traceback": [
      "\u001b[0;31m---------------------------------------------------------------------------\u001b[0m",
      "\u001b[0;31mTypeError\u001b[0m                                 Traceback (most recent call last)",
      "Input \u001b[0;32mIn [10]\u001b[0m, in \u001b[0;36m<module>\u001b[0;34m\u001b[0m\n\u001b[0;32m----> 1\u001b[0m e \u001b[38;5;241m=\u001b[39m {\u001b[38;5;124m'\u001b[39m\u001b[38;5;124mSalam\u001b[39m\u001b[38;5;124m'\u001b[39m,\u001b[38;5;124m'\u001b[39m\u001b[38;5;124mSib\u001b[39m\u001b[38;5;124m'\u001b[39m,\u001b[38;5;241m35.43\u001b[39m,\u001b[38;5;241m12\u001b[39m,b,\u001b[38;5;124m'\u001b[39m\u001b[38;5;124mx\u001b[39m\u001b[38;5;124m'\u001b[39m\u001b[38;5;241m+\u001b[39m\u001b[38;5;124m'\u001b[39m\u001b[38;5;124my\u001b[39m\u001b[38;5;124m'\u001b[39m,\u001b[38;5;241m44\u001b[39m}\n\u001b[1;32m      2\u001b[0m d \u001b[38;5;241m=\u001b[39m (\u001b[38;5;124m'\u001b[39m\u001b[38;5;124mSalam\u001b[39m\u001b[38;5;124m'\u001b[39m,\u001b[38;5;124m'\u001b[39m\u001b[38;5;124mSib\u001b[39m\u001b[38;5;124m'\u001b[39m,\u001b[38;5;241m35.43\u001b[39m,\u001b[38;5;241m12\u001b[39m,b,\u001b[38;5;124m'\u001b[39m\u001b[38;5;124mx\u001b[39m\u001b[38;5;124m'\u001b[39m\u001b[38;5;241m+\u001b[39m\u001b[38;5;124m'\u001b[39m\u001b[38;5;124my\u001b[39m\u001b[38;5;124m'\u001b[39m,\u001b[38;5;241m44\u001b[39m)\n\u001b[1;32m      3\u001b[0m \u001b[38;5;28mprint\u001b[39m(e)\n",
      "\u001b[0;31mTypeError\u001b[0m: unhashable type: 'set'"
     ]
    }
   ],
   "source": [
    "e = {'Salam','Sib',35.43,12,b,'x'+'y',44}\n",
    "d = ('Salam','Sib',35.43,12,b,'x'+'y',44)\n",
    "print(e)\n",
    "print(d)"
   ]
  },
  {
   "cell_type": "code",
   "execution_count": 11,
   "id": "e4875792",
   "metadata": {},
   "outputs": [
    {
     "name": "stdout",
     "output_type": "stream",
     "text": [
      "[1, 1, 2, 3, 5, 2, 6, 7, 7, 5, [32, 54, 'Adas']]\n"
     ]
    }
   ],
   "source": [
    "a.append([32,54,'Adas'])\n",
    "print(a)"
   ]
  },
  {
   "cell_type": "code",
   "execution_count": 13,
   "id": "673070bf",
   "metadata": {},
   "outputs": [
    {
     "name": "stdout",
     "output_type": "stream",
     "text": [
      "[1, 1, 2, 3, 5, 2, 6, 5, [32, 54, 'Adas']]\n"
     ]
    }
   ],
   "source": [
    "a.remove(7)\n",
    "print(a)"
   ]
  },
  {
   "cell_type": "code",
   "execution_count": 14,
   "id": "37969ec3",
   "metadata": {},
   "outputs": [
    {
     "data": {
      "text/plain": [
       "2"
      ]
     },
     "execution_count": 14,
     "metadata": {},
     "output_type": "execute_result"
    }
   ],
   "source": [
    "c.count(1)"
   ]
  },
  {
   "cell_type": "code",
   "execution_count": 15,
   "id": "5b631a9f",
   "metadata": {},
   "outputs": [],
   "source": [
    "?a.sort"
   ]
  },
  {
   "cell_type": "code",
   "execution_count": 18,
   "id": "7205df93",
   "metadata": {},
   "outputs": [
    {
     "name": "stdout",
     "output_type": "stream",
     "text": [
      "<class 'set'>\n"
     ]
    }
   ],
   "source": [
    "print(type(b))"
   ]
  },
  {
   "cell_type": "code",
   "execution_count": 25,
   "id": "dbfbc17e",
   "metadata": {},
   "outputs": [],
   "source": [
    "def set(x):\n",
    "    t = {}\n",
    "    for i in x:\n",
    "        t.add(i)\n",
    "        \n",
    "    return t"
   ]
  },
  {
   "cell_type": "code",
   "execution_count": 32,
   "id": "98bac615",
   "metadata": {},
   "outputs": [],
   "source": [
    "a = [1,1,2,3,5,2,6,7,7,5]"
   ]
  },
  {
   "cell_type": "code",
   "execution_count": 33,
   "id": "e98deb77",
   "metadata": {},
   "outputs": [
    {
     "name": "stdout",
     "output_type": "stream",
     "text": [
      "(1, 1, 2, 3, 5, 2, 6, 7, 7, 5)\n"
     ]
    }
   ],
   "source": [
    "b = tuple(a)\n",
    "print(b)"
   ]
  },
  {
   "cell_type": "code",
   "execution_count": 35,
   "id": "b6cb8522",
   "metadata": {},
   "outputs": [
    {
     "name": "stdout",
     "output_type": "stream",
     "text": [
      "0\n",
      "1\n",
      "2\n",
      "3\n",
      "4\n"
     ]
    }
   ],
   "source": [
    "for i in range(5):\n",
    "    print(i)\n",
    "    "
   ]
  },
  {
   "cell_type": "code",
   "execution_count": 36,
   "id": "753d4056",
   "metadata": {},
   "outputs": [
    {
     "name": "stdout",
     "output_type": "stream",
     "text": [
      "(1, 1, 2, 3, 5, 2, 6, 7, 7, 5)\n"
     ]
    }
   ],
   "source": [
    "print(c)"
   ]
  },
  {
   "cell_type": "code",
   "execution_count": 37,
   "id": "0eae630b",
   "metadata": {},
   "outputs": [
    {
     "name": "stdout",
     "output_type": "stream",
     "text": [
      "1\n",
      "1\n",
      "4\n",
      "9\n",
      "25\n",
      "4\n",
      "36\n",
      "49\n",
      "49\n",
      "25\n"
     ]
    }
   ],
   "source": [
    "for cc in c:\n",
    "    print(cc**2)"
   ]
  },
  {
   "cell_type": "code",
   "execution_count": 38,
   "id": "cfc20a02",
   "metadata": {},
   "outputs": [
    {
     "name": "stdout",
     "output_type": "stream",
     "text": [
      "[32, 54, 'Adas']\n",
      "5\n",
      "7\n",
      "7\n",
      "6\n",
      "2\n",
      "5\n",
      "3\n",
      "2\n",
      "1\n",
      "1\n"
     ]
    }
   ],
   "source": [
    "a = [1, 1, 2, 3, 5, 2, 6, 7, 7, 5, [32, 54, 'Adas']]\n",
    "for i in range(1,len(a)+1):\n",
    "    print(a[-i])"
   ]
  },
  {
   "cell_type": "code",
   "execution_count": 40,
   "id": "ecd323da",
   "metadata": {},
   "outputs": [
    {
     "name": "stdout",
     "output_type": "stream",
     "text": [
      "[32, 54, 'Adas']\n",
      "5\n",
      "7\n",
      "7\n",
      "6\n",
      "2\n",
      "5\n",
      "3\n",
      "2\n",
      "1\n",
      "1\n"
     ]
    }
   ],
   "source": [
    "i = len(a)-1\n",
    "while i>=0:\n",
    "    print(a[i])\n",
    "    i-=1\n",
    "    "
   ]
  },
  {
   "cell_type": "code",
   "execution_count": 41,
   "id": "5507d61a",
   "metadata": {},
   "outputs": [
    {
     "name": "stdout",
     "output_type": "stream",
     "text": [
      "Meh..\n"
     ]
    }
   ],
   "source": [
    "x = 5\n",
    "\n",
    "if x > 5:\n",
    "  print('Yay!!')\n",
    "\n",
    "elif x < 5:\n",
    "  print(\"Nay :(\")\n",
    "\n",
    "else:\n",
    "  print(\"Meh..\")\n"
   ]
  },
  {
   "cell_type": "code",
   "execution_count": 43,
   "id": "19b11dab",
   "metadata": {},
   "outputs": [
    {
     "name": "stdout",
     "output_type": "stream",
     "text": [
      "Nay :(\n",
      "Nay :(\n",
      "Nay :(\n",
      "Nay :(\n",
      "Meh..\n",
      "Nay :(\n",
      "Yay!!\n",
      "Yay!!\n",
      "Yay!!\n",
      "Meh..\n"
     ]
    }
   ],
   "source": [
    "c = (1,1,2,3,5,2,6,7,7,5)\n",
    "for i in c:\n",
    "    if i > 5:\n",
    "      print('Yay!!')\n",
    "\n",
    "    elif i < 5:\n",
    "      print(\"Nay :(\")\n",
    "\n",
    "    else:\n",
    "      print(\"Meh..\")\n",
    "        "
   ]
  },
  {
   "cell_type": "code",
   "execution_count": 44,
   "id": "10081509",
   "metadata": {},
   "outputs": [
    {
     "name": "stdout",
     "output_type": "stream",
     "text": [
      "time.struct_time(tm_year=2022, tm_mon=2, tm_mday=24, tm_hour=16, tm_min=40, tm_sec=30, tm_wday=3, tm_yday=55, tm_isdst=0)\n"
     ]
    }
   ],
   "source": [
    "import time\n",
    "print(time.localtime())"
   ]
  },
  {
   "cell_type": "code",
   "execution_count": 45,
   "id": "abedbc25",
   "metadata": {},
   "outputs": [
    {
     "name": "stdout",
     "output_type": "stream",
     "text": [
      "1.0\n"
     ]
    }
   ],
   "source": [
    "from math import pi,sin\n",
    "print(sin(pi/2))"
   ]
  },
  {
   "cell_type": "code",
   "execution_count": 46,
   "id": "b51eb514",
   "metadata": {},
   "outputs": [],
   "source": [
    "import numpy as np\n",
    "from matplotlib import pyplot as plt"
   ]
  },
  {
   "cell_type": "code",
   "execution_count": 47,
   "id": "2d44ff83",
   "metadata": {},
   "outputs": [
    {
     "name": "stdout",
     "output_type": "stream",
     "text": [
      "Defaulting to user installation because normal site-packages is not writeable\n",
      "Collecting sxs\n",
      "  Downloading sxs-2021.0.5-py3-none-any.whl (177 kB)\n",
      "\u001b[2K     \u001b[38;2;114;156;31m━━━━━━━━━━━━━━━━━━━━━━━━━━━━━━━━━━━━━\u001b[0m \u001b[32m177.4/177.4 KB\u001b[0m \u001b[31m199.9 kB/s\u001b[0m eta \u001b[36m0:00:00\u001b[0m[36m0:00:01\u001b[0m[36m0:00:01\u001b[0m:01\u001b[0m\n",
      "\u001b[?25hCollecting h5py<4,>=3\n",
      "  Downloading h5py-3.6.0-cp38-cp38-manylinux_2_12_x86_64.manylinux2010_x86_64.whl (4.5 MB)\n",
      "\u001b[2K     \u001b[38;2;114;156;31m━━━━━━━━━━━━━━━━━━━━━━━━━━━━━━━━━━━━━━━━\u001b[0m \u001b[32m4.5/4.5 MB\u001b[0m \u001b[31m985.1 kB/s\u001b[0m eta \u001b[36m0:00:00\u001b[0meta \u001b[36m0:00:01\u001b[0m[36m0:00:01\u001b[0m0m\n",
      "\u001b[?25hCollecting scipy<2.0,>=1.0\n",
      "  Downloading scipy-1.8.0-cp38-cp38-manylinux_2_17_x86_64.manylinux2014_x86_64.whl (41.6 MB)\n",
      "\u001b[2K     \u001b[38;2;249;38;114m━━━━━━\u001b[0m\u001b[38;5;237m╺\u001b[0m\u001b[38;5;237m━━━━━━━━━━━━━━━━━━━━━━━━━━━━━━━━━\u001b[0m \u001b[32m6.5/41.6 MB\u001b[0m \u001b[31m378.9 kB/s\u001b[0m eta \u001b[36m0:01:33\u001b[0m^C0\u001b[0m\n",
      "\u001b[2K     \u001b[38;2;249;38;114m━━━━━━\u001b[0m\u001b[38;5;237m╺\u001b[0m\u001b[38;5;237m━━━━━━━━━━━━━━━━━━━━━━━━━━━━━━━━━\u001b[0m \u001b[32m6.5/41.6 MB\u001b[0m \u001b[31m378.9 kB/s\u001b[0m eta \u001b[36m0:01:33\u001b[0m\n",
      "\u001b[?25h\u001b[31mERROR: Operation cancelled by user\u001b[0m\u001b[31m\n",
      "\u001b[0m"
     ]
    }
   ],
   "source": [
    "!pip install sxs"
   ]
  },
  {
   "cell_type": "code",
   "execution_count": 48,
   "id": "4e1b0a22",
   "metadata": {},
   "outputs": [
    {
     "name": "stdout",
     "output_type": "stream",
     "text": [
      "Defaulting to user installation because normal site-packages is not writeable\n",
      "Collecting sxs\n",
      "  Using cached sxs-2021.0.5-py3-none-any.whl (177 kB)\n",
      "Collecting h5py<4,>=3\n",
      "  Using cached h5py-3.6.0-cp38-cp38-manylinux_2_12_x86_64.manylinux2010_x86_64.whl (4.5 MB)\n",
      "Requirement already satisfied: requests<3.0.0,>=2.24.0 in ./.local/lib/python3.8/site-packages (from sxs) (2.27.1)\n",
      "Collecting quaternionic<2.0,>=1.0\n",
      "  Downloading quaternionic-1.0.3-py3-none-any.whl (34 kB)\n",
      "Collecting spinsfast<105,>=104\n",
      "  Downloading spinsfast-104.2022.2.8.21.41.41-cp38-cp38-manylinux_2_17_x86_64.manylinux2014_x86_64.whl (785 kB)\n",
      "\u001b[2K     \u001b[38;2;249;38;114m━━━━━━━━━━━\u001b[0m\u001b[38;5;237m╺\u001b[0m\u001b[38;5;237m━━━━━━━━━━━━━━━━━━━━━━━━━\u001b[0m \u001b[32m235.5/785.3 KB\u001b[0m \u001b[31m314.6 kB/s\u001b[0m eta \u001b[36m0:00:02\u001b[0m^C2\u001b[0m\n",
      "\u001b[2K     \u001b[38;2;249;38;114m━━━━━━━━━━━\u001b[0m\u001b[38;5;237m╺\u001b[0m\u001b[38;5;237m━━━━━━━━━━━━━━━━━━━━━━━━━\u001b[0m \u001b[32m235.5/785.3 KB\u001b[0m \u001b[31m314.6 kB/s\u001b[0m eta \u001b[36m0:00:02\u001b[0m\n",
      "\u001b[?25h\u001b[31mERROR: Operation cancelled by user\u001b[0m\u001b[31m\n",
      "\u001b[0mNote: you may need to restart the kernel to use updated packages.\n"
     ]
    }
   ],
   "source": [
    "pip install sxs"
   ]
  },
  {
   "cell_type": "code",
   "execution_count": 49,
   "id": "2b24e79a",
   "metadata": {},
   "outputs": [
    {
     "name": "stdout",
     "output_type": "stream",
     "text": [
      "[ 1  1  2  3  5  8 13 21 34]\n"
     ]
    }
   ],
   "source": [
    "a = np.array([1,1,2,3,5,8,13,21,34])\n",
    "print(a)"
   ]
  },
  {
   "cell_type": "code",
   "execution_count": 50,
   "id": "697eb174",
   "metadata": {},
   "outputs": [
    {
     "name": "stdout",
     "output_type": "stream",
     "text": [
      "88\n"
     ]
    }
   ],
   "source": [
    "print(np.sum(a))"
   ]
  },
  {
   "cell_type": "code",
   "execution_count": 51,
   "id": "ba1cf2a6",
   "metadata": {},
   "outputs": [
    {
     "data": {
      "text/plain": [
       "34"
      ]
     },
     "execution_count": 51,
     "metadata": {},
     "output_type": "execute_result"
    }
   ],
   "source": [
    "a.max()"
   ]
  },
  {
   "cell_type": "code",
   "execution_count": 52,
   "id": "895543a4",
   "metadata": {},
   "outputs": [
    {
     "data": {
      "text/plain": [
       "9.777777777777779"
      ]
     },
     "execution_count": 52,
     "metadata": {},
     "output_type": "execute_result"
    }
   ],
   "source": [
    "a.mean()"
   ]
  },
  {
   "cell_type": "code",
   "execution_count": 53,
   "id": "9e41b649",
   "metadata": {},
   "outputs": [
    {
     "name": "stdout",
     "output_type": "stream",
     "text": [
      "[  3   3   6   9  15  24  39  63 102]\n"
     ]
    }
   ],
   "source": [
    "print(3*a)"
   ]
  },
  {
   "cell_type": "code",
   "execution_count": 55,
   "id": "e61aaa0a",
   "metadata": {},
   "outputs": [],
   "source": [
    "?np.ones"
   ]
  },
  {
   "cell_type": "code",
   "execution_count": 57,
   "id": "80702248",
   "metadata": {},
   "outputs": [
    {
     "name": "stdout",
     "output_type": "stream",
     "text": [
      "[1. 1. 1. 1. 1. 1. 1. 1. 1.]\n"
     ]
    }
   ],
   "source": [
    "b = np.ones(len(a))\n",
    "print(b)"
   ]
  },
  {
   "cell_type": "code",
   "execution_count": 58,
   "id": "1270330e",
   "metadata": {},
   "outputs": [
    {
     "name": "stdout",
     "output_type": "stream",
     "text": [
      "[ 2.  2.  3.  4.  6.  9. 14. 22. 35.]\n"
     ]
    }
   ],
   "source": [
    "print(a+b)"
   ]
  },
  {
   "cell_type": "code",
   "execution_count": 59,
   "id": "32a99d25",
   "metadata": {},
   "outputs": [
    {
     "name": "stdout",
     "output_type": "stream",
     "text": [
      "2.0\n",
      "2.0\n",
      "3.0\n",
      "4.0\n",
      "6.0\n",
      "9.0\n",
      "14.0\n",
      "22.0\n",
      "35.0\n"
     ]
    }
   ],
   "source": [
    "for i in range (len(a)):\n",
    "    print(a[i]+b[i])"
   ]
  },
  {
   "cell_type": "code",
   "execution_count": 75,
   "id": "18ee40df",
   "metadata": {},
   "outputs": [
    {
     "name": "stdout",
     "output_type": "stream",
     "text": [
      "[ 1.  1.  2.  3.  5.  8. 13. 21. 34.]\n"
     ]
    }
   ],
   "source": [
    "for i in range(len(b)):\n",
    "    if i >1:\n",
    "        b[i]=b[i-1]+b[i-2]\n",
    "print(b)"
   ]
  },
  {
   "cell_type": "code",
   "execution_count": null,
   "id": "8253932d",
   "metadata": {},
   "outputs": [],
   "source": []
  },
  {
   "cell_type": "code",
   "execution_count": null,
   "id": "ca7bd699",
   "metadata": {},
   "outputs": [],
   "source": []
  },
  {
   "cell_type": "code",
   "execution_count": 77,
   "id": "b22754b5",
   "metadata": {},
   "outputs": [
    {
     "name": "stdout",
     "output_type": "stream",
     "text": [
      "[ 0.00000000e+00  6.34239197e-02  1.26592454e-01  1.89251244e-01\n",
      "  2.51147987e-01  3.12033446e-01  3.71662456e-01  4.29794912e-01\n",
      "  4.86196736e-01  5.40640817e-01  5.92907929e-01  6.42787610e-01\n",
      "  6.90079011e-01  7.34591709e-01  7.76146464e-01  8.14575952e-01\n",
      "  8.49725430e-01  8.81453363e-01  9.09631995e-01  9.34147860e-01\n",
      "  9.54902241e-01  9.71811568e-01  9.84807753e-01  9.93838464e-01\n",
      "  9.98867339e-01  9.99874128e-01  9.96854776e-01  9.89821442e-01\n",
      "  9.78802446e-01  9.63842159e-01  9.45000819e-01  9.22354294e-01\n",
      "  8.95993774e-01  8.66025404e-01  8.32569855e-01  7.95761841e-01\n",
      "  7.55749574e-01  7.12694171e-01  6.66769001e-01  6.18158986e-01\n",
      "  5.67059864e-01  5.13677392e-01  4.58226522e-01  4.00930535e-01\n",
      "  3.42020143e-01  2.81732557e-01  2.20310533e-01  1.58001396e-01\n",
      "  9.50560433e-02  3.17279335e-02 -3.17279335e-02 -9.50560433e-02\n",
      " -1.58001396e-01 -2.20310533e-01 -2.81732557e-01 -3.42020143e-01\n",
      " -4.00930535e-01 -4.58226522e-01 -5.13677392e-01 -5.67059864e-01\n",
      " -6.18158986e-01 -6.66769001e-01 -7.12694171e-01 -7.55749574e-01\n",
      " -7.95761841e-01 -8.32569855e-01 -8.66025404e-01 -8.95993774e-01\n",
      " -9.22354294e-01 -9.45000819e-01 -9.63842159e-01 -9.78802446e-01\n",
      " -9.89821442e-01 -9.96854776e-01 -9.99874128e-01 -9.98867339e-01\n",
      " -9.93838464e-01 -9.84807753e-01 -9.71811568e-01 -9.54902241e-01\n",
      " -9.34147860e-01 -9.09631995e-01 -8.81453363e-01 -8.49725430e-01\n",
      " -8.14575952e-01 -7.76146464e-01 -7.34591709e-01 -6.90079011e-01\n",
      " -6.42787610e-01 -5.92907929e-01 -5.40640817e-01 -4.86196736e-01\n",
      " -4.29794912e-01 -3.71662456e-01 -3.12033446e-01 -2.51147987e-01\n",
      " -1.89251244e-01 -1.26592454e-01 -6.34239197e-02 -2.44929360e-16]\n"
     ]
    }
   ],
   "source": [
    "x = np.linspace(0,2*pi,100)\n",
    "a = []\n",
    "for i in x:\n",
    "    a.append(sin(i))\n",
    "y = np.array(a)\n",
    "print(y)"
   ]
  },
  {
   "cell_type": "code",
   "execution_count": null,
   "id": "0ed6a063",
   "metadata": {},
   "outputs": [],
   "source": [
    "import matplotlib.pyplot as plt"
   ]
  },
  {
   "cell_type": "code",
   "execution_count": 85,
   "id": "c30153be",
   "metadata": {},
   "outputs": [
    {
     "data": {
      "image/png": "[encoded data removed]",
      "text/plain": [
       "<Figure size 432x288 with 1 Axes>"
      ]
     },
     "metadata": {
      "needs_background": "light"
     },
     "output_type": "display_data"
    }
   ],
   "source": [
    "plt.plot(x,y)\n",
    "plt.xlabel('pi')\n",
    "plt.ylabel('sin(pi)')\n",
    "plt.show()"
   ]
  },
  {
   "cell_type": "code",
   "execution_count": 80,
   "id": "c067e147",
   "metadata": {},
   "outputs": [],
   "source": [
    "data_to_save = np.column_stack((x,y))\n",
    "np.savetxt('sine_function',data_to_save)"
   ]
  },
  {
   "cell_type": "code",
   "execution_count": 81,
   "id": "3c34b817",
   "metadata": {},
   "outputs": [],
   "source": [
    "data_to_read = np.loadtxt('sine_function')"
   ]
  },
  {
   "cell_type": "code",
   "execution_count": 82,
   "id": "d8f32ab5",
   "metadata": {},
   "outputs": [
    {
     "name": "stdout",
     "output_type": "stream",
     "text": [
      "[[ 0.00000000e+00  0.00000000e+00]\n",
      " [ 6.34665183e-02  6.34239197e-02]\n",
      " [ 1.26933037e-01  1.26592454e-01]\n",
      " [ 1.90399555e-01  1.89251244e-01]\n",
      " [ 2.53866073e-01  2.51147987e-01]\n",
      " [ 3.17332591e-01  3.12033446e-01]\n",
      " [ 3.80799110e-01  3.71662456e-01]\n",
      " [ 4.44265628e-01  4.29794912e-01]\n",
      " [ 5.07732146e-01  4.86196736e-01]\n",
      " [ 5.71198664e-01  5.40640817e-01]\n",
      " [ 6.34665183e-01  5.92907929e-01]\n",
      " [ 6.98131701e-01  6.42787610e-01]\n",
      " [ 7.61598219e-01  6.90079011e-01]\n",
      " [ 8.25064737e-01  7.34591709e-01]\n",
      " [ 8.88531256e-01  7.76146464e-01]\n",
      " [ 9.51997774e-01  8.14575952e-01]\n",
      " [ 1.01546429e+00  8.49725430e-01]\n",
      " [ 1.07893081e+00  8.81453363e-01]\n",
      " [ 1.14239733e+00  9.09631995e-01]\n",
      " [ 1.20586385e+00  9.34147860e-01]\n",
      " [ 1.26933037e+00  9.54902241e-01]\n",
      " [ 1.33279688e+00  9.71811568e-01]\n",
      " [ 1.39626340e+00  9.84807753e-01]\n",
      " [ 1.45972992e+00  9.93838464e-01]\n",
      " [ 1.52319644e+00  9.98867339e-01]\n",
      " [ 1.58666296e+00  9.99874128e-01]\n",
      " [ 1.65012947e+00  9.96854776e-01]\n",
      " [ 1.71359599e+00  9.89821442e-01]\n",
      " [ 1.77706251e+00  9.78802446e-01]\n",
      " [ 1.84052903e+00  9.63842159e-01]\n",
      " [ 1.90399555e+00  9.45000819e-01]\n",
      " [ 1.96746207e+00  9.22354294e-01]\n",
      " [ 2.03092858e+00  8.95993774e-01]\n",
      " [ 2.09439510e+00  8.66025404e-01]\n",
      " [ 2.15786162e+00  8.32569855e-01]\n",
      " [ 2.22132814e+00  7.95761841e-01]\n",
      " [ 2.28479466e+00  7.55749574e-01]\n",
      " [ 2.34826118e+00  7.12694171e-01]\n",
      " [ 2.41172769e+00  6.66769001e-01]\n",
      " [ 2.47519421e+00  6.18158986e-01]\n",
      " [ 2.53866073e+00  5.67059864e-01]\n",
      " [ 2.60212725e+00  5.13677392e-01]\n",
      " [ 2.66559377e+00  4.58226522e-01]\n",
      " [ 2.72906028e+00  4.00930535e-01]\n",
      " [ 2.79252680e+00  3.42020143e-01]\n",
      " [ 2.85599332e+00  2.81732557e-01]\n",
      " [ 2.91945984e+00  2.20310533e-01]\n",
      " [ 2.98292636e+00  1.58001396e-01]\n",
      " [ 3.04639288e+00  9.50560433e-02]\n",
      " [ 3.10985939e+00  3.17279335e-02]\n",
      " [ 3.17332591e+00 -3.17279335e-02]\n",
      " [ 3.23679243e+00 -9.50560433e-02]\n",
      " [ 3.30025895e+00 -1.58001396e-01]\n",
      " [ 3.36372547e+00 -2.20310533e-01]\n",
      " [ 3.42719199e+00 -2.81732557e-01]\n",
      " [ 3.49065850e+00 -3.42020143e-01]\n",
      " [ 3.55412502e+00 -4.00930535e-01]\n",
      " [ 3.61759154e+00 -4.58226522e-01]\n",
      " [ 3.68105806e+00 -5.13677392e-01]\n",
      " [ 3.74452458e+00 -5.67059864e-01]\n",
      " [ 3.80799110e+00 -6.18158986e-01]\n",
      " [ 3.87145761e+00 -6.66769001e-01]\n",
      " [ 3.93492413e+00 -7.12694171e-01]\n",
      " [ 3.99839065e+00 -7.55749574e-01]\n",
      " [ 4.06185717e+00 -7.95761841e-01]\n",
      " [ 4.12532369e+00 -8.32569855e-01]\n",
      " [ 4.18879020e+00 -8.66025404e-01]\n",
      " [ 4.25225672e+00 -8.95993774e-01]\n",
      " [ 4.31572324e+00 -9.22354294e-01]\n",
      " [ 4.37918976e+00 -9.45000819e-01]\n",
      " [ 4.44265628e+00 -9.63842159e-01]\n",
      " [ 4.50612280e+00 -9.78802446e-01]\n",
      " [ 4.56958931e+00 -9.89821442e-01]\n",
      " [ 4.63305583e+00 -9.96854776e-01]\n",
      " [ 4.69652235e+00 -9.99874128e-01]\n",
      " [ 4.75998887e+00 -9.98867339e-01]\n",
      " [ 4.82345539e+00 -9.93838464e-01]\n",
      " [ 4.88692191e+00 -9.84807753e-01]\n",
      " [ 4.95038842e+00 -9.71811568e-01]\n",
      " [ 5.01385494e+00 -9.54902241e-01]\n",
      " [ 5.07732146e+00 -9.34147860e-01]\n",
      " [ 5.14078798e+00 -9.09631995e-01]\n",
      " [ 5.20425450e+00 -8.81453363e-01]\n",
      " [ 5.26772102e+00 -8.49725430e-01]\n",
      " [ 5.33118753e+00 -8.14575952e-01]\n",
      " [ 5.39465405e+00 -7.76146464e-01]\n",
      " [ 5.45812057e+00 -7.34591709e-01]\n",
      " [ 5.52158709e+00 -6.90079011e-01]\n",
      " [ 5.58505361e+00 -6.42787610e-01]\n",
      " [ 5.64852012e+00 -5.92907929e-01]\n",
      " [ 5.71198664e+00 -5.40640817e-01]\n",
      " [ 5.77545316e+00 -4.86196736e-01]\n",
      " [ 5.83891968e+00 -4.29794912e-01]\n",
      " [ 5.90238620e+00 -3.71662456e-01]\n",
      " [ 5.96585272e+00 -3.12033446e-01]\n",
      " [ 6.02931923e+00 -2.51147987e-01]\n",
      " [ 6.09278575e+00 -1.89251244e-01]\n",
      " [ 6.15625227e+00 -1.26592454e-01]\n",
      " [ 6.21971879e+00 -6.34239197e-02]\n",
      " [ 6.28318531e+00 -2.44929360e-16]]\n"
     ]
    }
   ],
   "source": [
    "print(data_to_read)"
   ]
  },
  {
   "cell_type": "code",
   "execution_count": 84,
   "id": "1fb9e748",
   "metadata": {},
   "outputs": [
    {
     "data": {
      "image/png": "[encoded data removed]",
      "text/plain": [
       "<Figure size 432x288 with 1 Axes>"
      ]
     },
     "metadata": {
      "needs_background": "light"
     },
     "output_type": "display_data"
    }
   ],
   "source": [
    "plt.plot(data_to_read[:,0],data_to_read[:,1])\n",
    "\n",
    "plt.show()"
   ]
  },
  {
   "cell_type": "code",
   "execution_count": 111,
   "id": "a1fd2a93",
   "metadata": {},
   "outputs": [
    {
     "name": "stdout",
     "output_type": "stream",
     "text": [
      "[0.0, 0.06346651825433926, 0.12693303650867852, 0.1903995547630178, 0.25386607301735703, 0.3173325912716963, 0.3807991095260356, 0.4442656277803748, 0.5077321460347141, 0.5711986642890533, 0.6346651825433925, 0.6981317007977318, 0.7615982190520711, 0.8250647373064104, 0.8885312555607496, 0.9519977738150889, 1.0154642920694281, 1.0789308103237674, 1.1423973285781066, 1.2058638468324459, 1.269330365086785, 1.3327968833411243, 1.3962634015954636, 1.4597299198498028, 1.5231964381041423, 1.5866629563584815, 1.6501294746128208, 1.71359599286716, 1.7770625111214993, 1.8405290293758385, 1.9039955476301778, 1.967462065884517, 2.0309285841388562, 2.0943951023931957, 2.1578616206475347, 2.221328138901874, 2.284794657156213, 2.3482611754105527, 2.4117276936648917, 2.475194211919231, 2.53866073017357, 2.6021272484279097, 2.6655937666822487, 2.729060284936588, 2.792526803190927, 2.8559933214452666, 2.9194598396996057, 2.982926357953945, 3.0463928762082846, 3.1098593944626236, 3.173325912716963, 3.236792430971302, 3.3002589492256416, 3.3637254674799806, 3.42719198573432, 3.490658503988659, 3.5541250222429985, 3.6175915404973376, 3.681058058751677, 3.744524577006016, 3.8079910952603555, 3.8714576135146945, 3.934924131769034, 3.998390650023373, 4.0618571682777125, 4.1253236865320515, 4.188790204786391, 4.25225672304073, 4.3157232412950695, 4.3791897595494085, 4.442656277803748, 4.506122796058087, 4.569589314312426, 4.6330558325667655, 4.696522350821105, 4.759988869075444, 4.823455387329783, 4.886921905584122, 4.950388423838462, 5.013854942092801, 5.07732146034714, 5.14078797860148, 5.204254496855819, 5.267721015110158, 5.331187533364497, 5.394654051618837, 5.458120569873176, 5.521587088127515, 5.585053606381854, 5.648520124636194, 5.711986642890533, 5.775453161144872, 5.838919679399211, 5.902386197653551, 5.96585271590789, 6.029319234162229, 6.092785752416569, 6.156252270670908, 6.219718788925247, 6.283185307179586]\n",
      "[0.0, 0.0634239196565645, 0.12659245357374926, 0.18925124436041021, 0.2511479871810792, 0.3120334456984871, 0.3716624556603276, 0.42979491208917164, 0.4861967361004687, 0.5406408174555976, 0.5929079290546404, 0.6427876096865393, 0.690079011482112, 0.7345917086575333, 0.7761464642917568, 0.8145759520503357, 0.8497254299495144, 0.8814533634475821, 0.9096319953545183, 0.9341478602651067, 0.9549022414440739, 0.9718115683235417, 0.984807753012208, 0.9938384644612541, 0.998867339183008, 0.9998741276738751, 0.9968547759519424, 0.9898214418809327, 0.9788024462147787, 0.963842158559942, 0.9450008187146685, 0.9223542941045814, 0.8959937742913359, 0.8660254037844385, 0.8325698546347714, 0.795761840530832, 0.7557495743542583, 0.7126941713788627, 0.6667690005162917, 0.6181589862206051, 0.5670598638627709, 0.5136773915734063, 0.4582265217274105, 0.4009305354066136, 0.3420201433256689, 0.28173255684142967, 0.2203105327865408, 0.1580013959733499, 0.09505604330418244, 0.031727933498067656, -0.03172793349806786, -0.09505604330418263, -0.15800139597335008, -0.22031053278654056, -0.28173255684142984, -0.34202014332566866, -0.4009305354066138, -0.4582265217274103, -0.5136773915734064, -0.5670598638627706, -0.6181589862206053, -0.6667690005162915, -0.7126941713788629, -0.7557495743542582, -0.7957618405308321, -0.8325698546347713, -0.8660254037844388, -0.895993774291336, -0.9223542941045814, -0.9450008187146683, -0.9638421585599422, -0.9788024462147787, -0.9898214418809327, -0.9968547759519423, -0.9998741276738751, -0.998867339183008, -0.9938384644612541, -0.9848077530122081, -0.9718115683235417, -0.9549022414440739, -0.9341478602651068, -0.9096319953545182, -0.881453363447582, -0.8497254299495144, -0.8145759520503358, -0.7761464642917566, -0.7345917086575332, -0.690079011482112, -0.6427876096865396, -0.5929079290546402, -0.5406408174555974, -0.4861967361004688, -0.4297949120891719, -0.37166245566032724, -0.31203344569848707, -0.2511479871810794, -0.18925124436040974, -0.12659245357374904, -0.06342391965656452, -2.4492935982947064e-16]\n"
     ]
    }
   ],
   "source": [
    "x = []\n",
    "y = []\n",
    "for i in data_to_read:\n",
    "    x.append(i[0])\n",
    "    y.append(i[1])\n",
    "print(x)\n",
    "print(y)\n",
    "    "
   ]
  },
  {
   "cell_type": "code",
   "execution_count": 101,
   "id": "f0364a0d",
   "metadata": {},
   "outputs": [],
   "source": [
    "def Fibonacci(N):\n",
    "    F1 = 1\n",
    "    F2 = 1\n",
    "    F =0\n",
    "    if N == 1 or N == 2:\n",
    "        return F1\n",
    "    else:\n",
    "        while N>2:\n",
    "            F = F1+F2\n",
    "            F1 = F2\n",
    "            F2 = F\n",
    "            N-=1\n",
    "        return F"
   ]
  },
  {
   "cell_type": "code",
   "execution_count": 110,
   "id": "7d2c4f1c",
   "metadata": {},
   "outputs": [
    {
     "name": "stdout",
     "output_type": "stream",
     "text": [
      "21\n"
     ]
    }
   ],
   "source": [
    "print(Fibonacci(8))"
   ]
  },
  {
   "cell_type": "code",
   "execution_count": null,
   "id": "8277730a",
   "metadata": {},
   "outputs": [],
   "source": []
  }
 ],
 "metadata": {
  "kernelspec": {
   "display_name": "Python 3 (ipykernel)",
   "language": "python",
   "name": "python3"
  },
  "language_info": {
   "codemirror_mode": {
    "name": "ipython",
    "version": 3
   },
   "file_extension": ".py",
   "mimetype": "text/x-python",
   "name": "python",
   "nbconvert_exporter": "python",
   "pygments_lexer": "ipython3",
   "version": "3.8.5"
  }
 },
 "nbformat": 4,
 "nbformat_minor": 5
}
